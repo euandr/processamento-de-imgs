{
 "cells": [
  {
   "cell_type": "code",
   "execution_count": null,
   "metadata": {},
   "outputs": [],
   "source": [
    "tudo=''\n",
    "with open(\"6-separando_ComBasenosNomes/features.csv\", \"r\", encoding='utf8') as dados:\n",
    "    lista = dados.read()\n",
    "\n",
    "    for x in lista:\n",
    "        if x == ';': tudo += f'{x} \\n'\n",
    "        else: tudo += x\n",
    "\n",
    "print(tudo)"
   ]
  },
  {
   "cell_type": "code",
   "execution_count": null,
   "metadata": {},
   "outputs": [],
   "source": [
    "labels = ['EOSINOPHIL', 'LYMPHOCYTE', 'NEUTROPHIL','MONOCYTE']\n",
    "\n",
    "\n",
    "if 'EOSINOPHIL' in image_path:label = 1 \n",
    "elif 'LYMPHOCYTE' in image_path:label = 2 \n",
    "elif 'NEUTROPHIL' in image_path:label = 3\n",
    "elif 'MONOCYTE' in image_path:label = 4\n",
    "else: label = 0\n",
    "\n",
    "# ou\n",
    "\n",
    "label = 1 if 'EOSINOPHIL' in image_path else 2 if 'LYMPHOCYTE' in image_path else 3 if 'NEUTROPHIL' in image_path else 4 if 'MONOCYTE' in image_path else 0"
   ]
  },
  {
   "cell_type": "code",
   "execution_count": 2,
   "metadata": {},
   "outputs": [
    {
     "name": "stdout",
     "output_type": "stream",
     "text": [
      "   Angular Second Moment   Contrast  Correlation  Sum of Squares: Variance  \\\n",
      "0               0.002368   9.979350     0.987863                411.114488   \n",
      "1               0.001693   9.882604     0.991324                570.271076   \n",
      "2               0.002042  10.810197     0.993642                850.533755   \n",
      "3               0.001767  10.636361     0.992175                680.121801   \n",
      "4               0.002181  12.499174     0.992066                788.886203   \n",
      "\n",
      "   Inverse Difference Moment  Sum Average  Sum Variance  Sum Entropy  \\\n",
      "0                   0.431681   342.281813   1634.478602     7.095244   \n",
      "1                   0.392746   327.481665   2271.201701     7.362873   \n",
      "2                   0.399094   316.358554   3391.324825     7.426787   \n",
      "3                   0.375705   296.187522   2709.850844     7.261826   \n",
      "4                   0.386387   295.337449   3143.045639     7.139143   \n",
      "\n",
      "    Entropy  Difference Variance  Difference Entropy  \\\n",
      "0  9.496906             0.000784            2.737209   \n",
      "1  9.805093             0.000837            2.756606   \n",
      "2  9.823915             0.000878            2.810540   \n",
      "3  9.766693             0.000848            2.804955   \n",
      "4  9.643199             0.000816            2.876942   \n",
      "\n",
      "   Information Measure of Correlation 1  Information Measure of Correlation 2  \\\n",
      "0                             -0.444810                              0.997558   \n",
      "1                             -0.462236                              0.998455   \n",
      "2                             -0.474987                              0.998762   \n",
      "3                             -0.444153                              0.997893   \n",
      "4                             -0.434162                              0.997291   \n",
      "\n",
      "   Maximal Correlation Coefficient  Label  \n",
      "0                         3.112194    1.0  \n",
      "1                         3.279129    1.0  \n",
      "2                         3.473780    1.0  \n",
      "3                         3.411886    1.0  \n",
      "4                         3.545428    1.0  \n",
      "Index(['Angular Second Moment', 'Contrast', 'Correlation',\n",
      "       'Sum of Squares: Variance', 'Inverse Difference Moment', 'Sum Average',\n",
      "       'Sum Variance', 'Sum Entropy', 'Entropy', 'Difference Variance',\n",
      "       'Difference Entropy', 'Information Measure of Correlation 1',\n",
      "       'Information Measure of Correlation 2',\n",
      "       'Maximal Correlation Coefficient', 'Label'],\n",
      "      dtype='object')\n",
      "<class 'pandas.core.frame.DataFrame'>\n",
      "RangeIndex: 345 entries, 0 to 344\n",
      "Data columns (total 15 columns):\n",
      " #   Column                                Non-Null Count  Dtype  \n",
      "---  ------                                --------------  -----  \n",
      " 0   Angular Second Moment                 345 non-null    float64\n",
      " 1   Contrast                              345 non-null    float64\n",
      " 2   Correlation                           345 non-null    float64\n",
      " 3   Sum of Squares: Variance              345 non-null    float64\n",
      " 4   Inverse Difference Moment             345 non-null    float64\n",
      " 5   Sum Average                           345 non-null    float64\n",
      " 6   Sum Variance                          345 non-null    float64\n",
      " 7   Sum Entropy                           345 non-null    float64\n",
      " 8   Entropy                               345 non-null    float64\n",
      " 9   Difference Variance                   345 non-null    float64\n",
      " 10  Difference Entropy                    345 non-null    float64\n",
      " 11  Information Measure of Correlation 1  345 non-null    float64\n",
      " 12  Information Measure of Correlation 2  345 non-null    float64\n",
      " 13  Maximal Correlation Coefficient       345 non-null    float64\n",
      " 14  Label                                 345 non-null    float64\n",
      "dtypes: float64(15)\n",
      "memory usage: 40.6 KB\n",
      "None\n"
     ]
    }
   ],
   "source": [
    "\n",
    "import pandas as pd\n",
    "\n",
    "df = pd.read_csv('C:\\\\Users\\\\andre\\\\OneDrive\\\\Documentos\\\\atividades\\\\estudos_opencv\\\\processamento de imagens\\\\07 - extração e classificação\\\\dados.csv', delimiter=';')\n",
    "\n",
    "df['Label'] = df['Label'].astype(int)\n",
    "print(df.head())\n"
   ]
  }
 ],
 "metadata": {
  "kernelspec": {
   "display_name": "Python 3",
   "language": "python",
   "name": "python3"
  },
  "language_info": {
   "codemirror_mode": {
    "name": "ipython",
    "version": 3
   },
   "file_extension": ".py",
   "mimetype": "text/x-python",
   "name": "python",
   "nbconvert_exporter": "python",
   "pygments_lexer": "ipython3",
   "version": "3.11.9"
  }
 },
 "nbformat": 4,
 "nbformat_minor": 2
}
