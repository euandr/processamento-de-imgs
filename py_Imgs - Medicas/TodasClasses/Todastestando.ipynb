{
 "cells": [
  {
   "cell_type": "code",
   "execution_count": 3,
   "id": "855e4ea3",
   "metadata": {},
   "outputs": [],
   "source": [
    "import os\n",
    "import gc\n",
    "import cv2\n",
    "import numpy as np\n",
    "import pandas as pd\n",
    "from sklearn.model_selection import train_test_split\n",
    "from sklearn.metrics import accuracy_score, confusion_matrix, classification_report\n",
    "from sklearn.metrics import precision_score, recall_score, f1_score, roc_auc_score, cohen_kappa_score\n",
    "import tensorflow as tf\n",
    "from tensorflow.keras.preprocessing.image import ImageDataGenerator\n",
    "from tensorflow.keras.applications import VGG16, ResNet50, DenseNet121, InceptionV3, EfficientNetB0, Xception, MobileNetV2\n",
    "from tensorflow.keras import models, layers, optimizers, callbacks\n",
    "from tensorflow.keras import backend as K\n",
    "import pickle\n",
    "from sklearn.svm import SVC\n",
    "from sklearn.ensemble import AdaBoostClassifier, RandomForestClassifier\n",
    "from sklearn.neighbors import KNeighborsClassifier\n",
    "import xgboost as xgb\n",
    "\n"
   ]
  },
  {
   "cell_type": "code",
   "execution_count": 2,
   "id": "77308a42",
   "metadata": {},
   "outputs": [],
   "source": [
    "# Criando função para calcular as métricas\n",
    "def get_metrics(y_true, y_pred):\n",
    "    vn, fp, fn, vp = confusion_matrix(y_true, y_pred).ravel()\n",
    "    accuracy = (vp + vn) / (vp + fp + fn + vn)\n",
    "    recall = vp / (vp + fn)\n",
    "    specificity = vn / (vn + fp)\n",
    "    precision = vp / (vp + fp)\n",
    "    f1 = f1_score(y_true, y_pred)\n",
    "    kappa = cohen_kappa_score(y_true, y_pred)\n",
    "    auc_roc = roc_auc_score(y_true, y_pred)\n",
    "\n",
    "    return {\n",
    "        'accuracy': accuracy,\n",
    "        'specificity': specificity,\n",
    "        'recall': recall,\n",
    "        'precision': precision,\n",
    "        'f1-score': f1,\n",
    "        'kappa': kappa,\n",
    "        'auc-roc': auc_roc\n",
    "    }"
   ]
  },
  {
   "cell_type": "code",
   "execution_count": 4,
   "id": "4672f70d",
   "metadata": {},
   "outputs": [],
   "source": [
    "# Criando função para seleção de esquema de cor \n",
    "def convert_color_scale(image, scale):\n",
    "    if scale == 'hsv':\n",
    "        return cv2.cvtColor(image, cv2.COLOR_BGR2HSV)\n",
    "    elif scale == 'rgb':\n",
    "        return cv2.cvtColor(image, cv2.COLOR_BGR2RGB)\n",
    "    elif scale == 'grayscale':\n",
    "        # Converter para escala de cinza e replicar para 3 canais\n",
    "        gray = cv2.cvtColor(image, cv2.COLOR_BGR2GRAY)\n",
    "        return cv2.merge([gray, gray, gray])\n",
    "    elif scale == 'lab':\n",
    "        return cv2.cvtColor(image, cv2.COLOR_BGR2LAB)\n",
    "    elif scale == 'luv':\n",
    "        return cv2.cvtColor(image, cv2.COLOR_BGR2LUV)\n",
    "    elif scale == 'xyz':\n",
    "        return cv2.cvtColor(image, cv2.COLOR_BGR2XYZ)\n",
    "    elif scale == 'YcrCb':\n",
    "        return cv2.cvtColor(image, cv2.COLOR_BGR2YCrCb)\n",
    "    \n",
    "    else:\n",
    "        raise ValueError(\"Escala de cor não suportada.\")"
   ]
  },
  {
   "cell_type": "code",
   "execution_count": 5,
   "id": "f0c6ab10",
   "metadata": {},
   "outputs": [],
   "source": [
    "# Carregamento e pré-processamento de imagens com escolha de escala de cor\n",
    "def load_images(folder, color_scale, img_extensions):\n",
    "    images = []\n",
    "    for filename in os.listdir(folder):\n",
    "        if any(filename.lower().endswith(ext) for ext in img_extensions):\n",
    "            img_path = os.path.join(folder, filename)\n",
    "            img = cv2.imread(img_path)\n",
    "            \n",
    "            if img is not None:\n",
    "                img = cv2.resize(img, (224, 224))  # Ajuste o tamanho conforme necessário\n",
    "\n",
    "                # Converta para a escala de cor desejada\n",
    "                img = convert_color_scale(img, color_scale)\n",
    "\n",
    "                # Se a imagem estiver em escala de cinza, expanda as dimensões\n",
    "                if color_scale == 'grayscale':\n",
    "                    img = np.expand_dims(img, axis=-1)  # Adiciona uma dimensão de canal\n",
    "\n",
    "                images.append(img)\n",
    "    return np.array(images)"
   ]
  },
  {
   "cell_type": "code",
   "execution_count": 6,
   "id": "582c5a25",
   "metadata": {},
   "outputs": [],
   "source": [
    "# Defina as pastas de dados\n",
    "data_dir = r\"C:\\Users\\andre\\Pictures\\OvarianCancer\"\n",
    "normal_dir = os.path.join(data_dir, 'Non_Cancerous')\n",
    "Serous= os.path.join(data_dir, 'Serous')\n",
    "Mucinous = os.path.join(data_dir, 'Mucinous')\n",
    "Endometrioid = os.path.join(data_dir, 'Endometri')\n",
    "Clear = os.path.join(data_dir, 'Clear_Cell')\n",
    "img_extensions = ['.jpg', '.jpeg', '.png']\n"
   ]
  },
  {
   "cell_type": "code",
   "execution_count": 7,
   "id": "91fe6a01",
   "metadata": {},
   "outputs": [],
   "source": [
    "# Criar um DataFrame para armazenar os resultados\n",
    "columns = ['Modelo', 'Acuracia', 'Sensibilidade', 'Especificidade', 'F-Score', 'AUC-ROC']\n",
    "df_metrics = pd.DataFrame(columns=columns)\n"
   ]
  },
  {
   "cell_type": "code",
   "execution_count": 7,
   "id": "bacc9aee",
   "metadata": {},
   "outputs": [],
   "source": [
    "# Carregar o modelo InceptionV3 pré-treinado\n",
    "base_model = VGG16(weights='imagenet', include_top=False)     # <----------------------------------------------------------\n",
    "\n",
    "# Extrair características usando o modelo VGG16\n",
    "def extract_features(model, X):\n",
    "    features = model.predict(X)\n",
    "    features_flat = features.reshape((features.shape[0], -1))\n",
    "    # np.savetxt(\"features_5Classes.csv\", features_flat, delimiter=\",\")\n",
    "    return features_flat\n"
   ]
  },
  {
   "cell_type": "markdown",
   "id": "4450f29b",
   "metadata": {},
   "source": [
    "## <span style=\"color:green;\">a partir daqui, complica a situação</span>"
   ]
  },
  {
   "cell_type": "code",
   "execution_count": 8,
   "id": "0bc261eb",
   "metadata": {},
   "outputs": [],
   "source": [
    "# Carregamento de imagens e conversão para XYZ\n",
    "normal_images = load_images(normal_dir, 'grayscale',img_extensions)       \n",
    "serous_images = load_images(Serous, 'grayscale',img_extensions)        \n",
    "mucinous_images = load_images(Mucinous, 'grayscale',img_extensions)        \n",
    "endometrioid_images = load_images(Endometrioid, 'grayscale',img_extensions)        \n",
    "clear_images = load_images(Clear, 'grayscale',img_extensions)   \n",
    "\n",
    "\n",
    "#      ISSO SERIA SO PRA 2 CLASSES\n",
    "# Rótulos para imagens (0 para normal, 1 para câncer)\n",
    "# normal_labels = np.zeros(normal_images.shape[0])\n",
    "# cancer_labels = np.ones(cancer_images.shape[0])\n",
    "\n",
    "# # Concatenar imagens e rótulos\n",
    "# all_images = np.concatenate([normal_images, cancer_images], axis=0)\n",
    "# all_images = extract_features(base_model, all_images)\n",
    "# all_labels = np.concatenate([normal_labels, cancer_labels], axis=0)\n",
    "\n",
    "\n",
    "# Rótulos para imagens (0 para normal, 1 para seroso, 2 para mucinoso, 3 para endometrioide, 4 para células claras)\n",
    "y = (\n",
    "    ['Non_Cancerous'] * len(normal_images) +\n",
    "    ['Serous'] * len(serous_images) +\n",
    "    ['Mucinous'] * len(mucinous_images) +\n",
    "    ['Endometrioid'] * len(endometrioid_images) +\n",
    "    ['Clear_Cell'] * len(clear_images)\n",
    ")\n",
    "\n",
    "\n",
    "from sklearn.preprocessing import LabelEncoder\n",
    "le = LabelEncoder()\n",
    "y_encoded = le.fit_transform(y)\n",
    "\n",
    "all_images = np.concatenate([\n",
    "    normal_images,\n",
    "    serous_images,\n",
    "    mucinous_images,\n",
    "    endometrioid_images,\n",
    "    clear_images\n",
    "], axis=0)\n",
    "all_images = extract_features(base_model, all_images)\n",
    "\n",
    "\n",
    "\n",
    "# Dividi em treino e teste 80/20\n",
    "X_train, X_test, y_train, y_test = train_test_split(all_images, y_encoded, test_size=0.2, random_state=42)\n",
    "\n",
    "X_train = X_train / 255.0\n",
    "X_test = X_test / 255.0\n"
   ]
  },
  {
   "cell_type": "code",
   "execution_count": 10,
   "id": "2ab69e13",
   "metadata": {},
   "outputs": [
    {
     "name": "stdout",
     "output_type": "stream",
     "text": [
      "               precision    recall  f1-score   support\n",
      "\n",
      "   Clear_Cell       0.71      0.60      0.65        25\n",
      " Endometrioid       0.73      1.00      0.84        16\n",
      "     Mucinous       0.53      0.50      0.52        16\n",
      "Non_Cancerous       0.79      0.70      0.75        27\n",
      "       Serous       0.72      0.81      0.76        16\n",
      "\n",
      "     accuracy                           0.71       100\n",
      "    macro avg       0.70      0.72      0.70       100\n",
      " weighted avg       0.71      0.71      0.70       100\n",
      "\n",
      "============================================================\n",
      "Acurácia para Clear_Cell: 0.60\n",
      "Acurácia para Endometrioid: 1.00\n",
      "Acurácia para Mucinous: 0.50\n",
      "Acurácia para Non_Cancerous: 0.70\n",
      "Acurácia para Serous: 0.81\n"
     ]
    },
    {
     "data": {
      "image/png": "[encoded data removed]",
      "text/plain": [
       "<Figure size 432x288 with 2 Axes>"
      ]
     },
     "metadata": {
      "needs_background": "light"
     },
     "output_type": "display_data"
    }
   ],
   "source": [
    "\n",
    "\n",
    "# svm_model = SVC(random_state=42, kernel='rbf', C=1, gamma='scale')\n",
    "svm_model = xgb.XGBClassifier(\n",
    "    objective='multi:softprob',  \n",
    "    num_class=5,              \n",
    "    eval_metric='mlogloss',    \n",
    "    use_label_encoder=False,    \n",
    "    random_state=42\n",
    ")\n",
    "svm_model.fit(X_train, y_train)\n",
    "y_pred_svm = svm_model.predict(X_test)\n",
    "\n",
    "\n",
    "\n",
    "\n",
    "print(classification_report(y_test, y_pred_svm, target_names=le.classes_))\n",
    "\n",
    "print((\"=\" * 60))\n",
    "# Para cada classe:\n",
    "for i, class_name in enumerate(le.classes_):\n",
    "    idx = y_test == i\n",
    "    class_acc = accuracy_score(y_test[idx],y_pred_svm[idx])\n",
    "    print(f\"Acurácia para {class_name}: {class_acc:.2f}\")\n",
    "\n",
    "\n",
    "import seaborn as sns\n",
    "import matplotlib.pyplot as plt\n",
    "\n",
    "cm = confusion_matrix(y_test, y_pred_svm)\n",
    "sns.heatmap(cm, annot=True, fmt='d', xticklabels=le.classes_, yticklabels=le.classes_)\n",
    "plt.xlabel('Predito')\n",
    "plt.ylabel('Real')\n",
    "plt.title('Matriz de Confusão (XGBoost)')\n",
    "plt.show()\n"
   ]
  },
  {
   "cell_type": "code",
   "execution_count": 11,
   "id": "9e726265",
   "metadata": {},
   "outputs": [
    {
     "name": "stdout",
     "output_type": "stream",
     "text": [
      "               precision    recall  f1-score   support\n",
      "\n",
      "   Clear_Cell       0.53      0.64      0.58        25\n",
      " Endometrioid       0.59      1.00      0.74        16\n",
      "     Mucinous       0.33      0.50      0.40        16\n",
      "Non_Cancerous       0.82      0.33      0.47        27\n",
      "       Serous       1.00      0.50      0.67        16\n",
      "\n",
      "     accuracy                           0.57       100\n",
      "    macro avg       0.66      0.59      0.57       100\n",
      " weighted avg       0.66      0.57      0.56       100\n",
      "\n",
      "============================================================\n",
      "Acurácia para Clear_Cell: 0.64\n",
      "Acurácia para Endometrioid: 1.00\n",
      "Acurácia para Mucinous: 0.50\n",
      "Acurácia para Non_Cancerous: 0.33\n",
      "Acurácia para Serous: 0.50\n"
     ]
    },
    {
     "data": {
      "image/png": "[encoded data removed]",
      "text/plain": [
       "<Figure size 432x288 with 2 Axes>"
      ]
     },
     "metadata": {
      "needs_background": "light"
     },
     "output_type": "display_data"
    }
   ],
   "source": [
    "class_weights = {\n",
    "    0: 1.0,   # Non_Cancerous\n",
    "    1: 1.5,   # Serous\n",
    "    2: 1.0,   # Mucinous\n",
    "    3: 1.25,  # Endometrioid\n",
    "    4: 3.0    # Clear_Cell\n",
    "}\n",
    "svm_model = SVC(random_state=42, kernel='rbf', C=1, gamma='scale')\n",
    "svm_model.fit(X_train, y_train)\n",
    "y_pred_svm = svm_model.predict(X_test)\n",
    "\n",
    "\n",
    "\n",
    "\n",
    "print(classification_report(y_test, y_pred_svm, target_names=le.classes_))\n",
    "\n",
    "\n",
    "print((\"=\" * 60))\n",
    "# Para cada classe:\n",
    "for i, class_name in enumerate(le.classes_):\n",
    "    idx = y_test == i\n",
    "    class_acc = accuracy_score(y_test[idx],y_pred_svm[idx])\n",
    "    print(f\"Acurácia para {class_name}: {class_acc:.2f}\")\n",
    "\n",
    "\n",
    "import seaborn as sns\n",
    "import matplotlib.pyplot as plt\n",
    "\n",
    "cm = confusion_matrix(y_test, y_pred_svm)\n",
    "sns.heatmap(cm, annot=True, fmt='d', xticklabels=le.classes_, yticklabels=le.classes_)\n",
    "plt.xlabel('Predito')\n",
    "plt.ylabel('Real')\n",
    "plt.title('Matriz de Confusão (svm)')\n",
    "plt.show()"
   ]
  },
  {
   "cell_type": "markdown",
   "id": "1bf3446a",
   "metadata": {},
   "source": [
    "# testar ..."
   ]
  },
  {
   "cell_type": "code",
   "execution_count": 9,
   "id": "a66b380c",
   "metadata": {},
   "outputs": [
    {
     "name": "stdout",
     "output_type": "stream",
     "text": [
      "               precision    recall  f1-score   support\n",
      "\n",
      "   Clear_Cell       0.68      0.68      0.68        25\n",
      " Endometrioid       0.55      1.00      0.71        16\n",
      "     Mucinous       0.59      0.81      0.68        16\n",
      "Non_Cancerous       0.91      0.37      0.53        27\n",
      "       Serous       0.92      0.75      0.83        16\n",
      "\n",
      "     accuracy                           0.68       100\n",
      "    macro avg       0.73      0.72      0.69       100\n",
      " weighted avg       0.75      0.68      0.67       100\n",
      "\n",
      "============================================================\n",
      "Acurácia para Clear_Cell: 0.68\n",
      "Acurácia para Endometrioid: 1.00\n",
      "Acurácia para Mucinous: 0.81\n",
      "Acurácia para Non_Cancerous: 0.37\n",
      "Acurácia para Serous: 0.75\n"
     ]
    },
    {
     "data": {
      "image/png": "[encoded data removed]",
      "text/plain": [
       "<Figure size 432x288 with 2 Axes>"
      ]
     },
     "metadata": {
      "needs_background": "light"
     },
     "output_type": "display_data"
    }
   ],
   "source": [
    "\n",
    "svm_model =  RandomForestClassifier(random_state=42, n_estimators=200)\n",
    "svm_model.fit(X_train, y_train)\n",
    "y_pred_svm = svm_model.predict(X_test)\n",
    "\n",
    "\n",
    "\n",
    "\n",
    "print(classification_report(y_test, y_pred_svm, target_names=le.classes_))\n",
    "\n",
    "\n",
    "print((\"=\" * 60))\n",
    "# Para cada classe:\n",
    "for i, class_name in enumerate(le.classes_):\n",
    "    idx = y_test == i\n",
    "    class_acc = accuracy_score(y_test[idx],y_pred_svm[idx])\n",
    "    print(f\"Acurácia para {class_name}: {class_acc:.2f}\")\n",
    "\n",
    "\n",
    "import seaborn as sns\n",
    "import matplotlib.pyplot as plt\n",
    "\n",
    "cm = confusion_matrix(y_test, y_pred_svm)\n",
    "sns.heatmap(cm, annot=True, fmt='d', xticklabels=le.classes_, yticklabels=le.classes_)\n",
    "plt.xlabel('Predito')\n",
    "plt.ylabel('Real')\n",
    "plt.title('Matriz de Confusão (svm)')\n",
    "plt.show()\n",
    "\n"
   ]
  },
  {
   "cell_type": "code",
   "execution_count": null,
   "id": "f3e236fa",
   "metadata": {},
   "outputs": [],
   "source": []
  }
 ],
 "metadata": {
  "kernelspec": {
   "display_name": "TFenv",
   "language": "python",
   "name": "python3"
  },
  "language_info": {
   "codemirror_mode": {
    "name": "ipython",
    "version": 3
   },
   "file_extension": ".py",
   "mimetype": "text/x-python",
   "name": "python",
   "nbconvert_exporter": "python",
   "pygments_lexer": "ipython3",
   "version": "3.6.13"
  }
 },
 "nbformat": 4,
 "nbformat_minor": 5
}
